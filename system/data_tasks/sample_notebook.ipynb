{
 "cells": [
  {
   "cell_type": "code",
   "execution_count": 11,
   "metadata": {},
   "outputs": [],
   "source": [
    "params = {}"
   ]
  },
  {
   "cell_type": "code",
   "execution_count": 12,
   "metadata": {},
   "outputs": [
    {
     "name": "stdout",
     "output_type": "stream",
     "text": [
      "something\n",
      "['/Users/fitti/.pyenv/versions/3.12.3/lib/python312.zip', '/Users/fitti/.pyenv/versions/3.12.3/lib/python3.12', '/Users/fitti/.pyenv/versions/3.12.3/lib/python3.12/lib-dynload', '', '/Users/fitti/Development/duft-workspace-django/.venv/lib/python3.12/site-packages', '/Users/fitti/Development/duft-workspace-django/duft', '/Users/fitti/Development/duft-workspace-django/duft-server']\n"
     ]
    }
   ],
   "source": [
    "import time\n",
    "import json\n",
    "import sys\n",
    "\n",
    "from data_task_helpers import something\n",
    "\n",
    "something()\n",
    "\n",
    "from api_data_task_executioner.data_task_tools import assert_dte_tools_available, get_resolved_parameters_for_connection, initialise_data_task, find_json_arg  # noqa: E402\n",
    "\n"
   ]
  },
  {
   "cell_type": "code",
   "execution_count": 13,
   "metadata": {},
   "outputs": [
    {
     "name": "stdout",
     "output_type": "stream",
     "text": [
      "DUFT Config: duft-config\n",
      "DUFT Config: duft-config\n",
      "[2024-08-11T20:22:30.264507] Jupyter Sample Data Task - INFO: Jupyter Sample Data Task initialised running in active mode\n",
      "Jupyter Sample Data Task: Jupyter Sample Data Task initialised running in active mode\n"
     ]
    }
   ],
   "source": [
    "   \n",
    "environment = initialise_data_task(\"Jupyter Sample Data Task\", params=params)\n",
    "params[\"name\"] = params.get(\"customname\", params.get(\"name\", \"No parameters given!\"))\n",
    "params[\"sleep_time\"] = params.get(\"sleep_time\", 0.2)\n",
    "\n",
    "if not params:\n",
    "    environment.log_error(\"No parameters given!\")\n",
    "    "
   ]
  },
  {
   "cell_type": "code",
   "execution_count": 14,
   "metadata": {},
   "outputs": [],
   "source": [
    "def sample_task():\n",
    "    resolved_parameters = get_resolved_parameters_for_connection(\"ANA\")\n",
    "    environment.log_message('Script starting!')\n",
    "    environment.log_message(\"Using parameters: %s\" % resolved_parameters)\n",
    "    \n"
   ]
  },
  {
   "cell_type": "code",
   "execution_count": 15,
   "metadata": {},
   "outputs": [
    {
     "name": "stdout",
     "output_type": "stream",
     "text": [
      "DTE Tools available\n",
      "DUFT Config: duft-config\n",
      "[2024-08-11T20:22:30.275557] Jupyter Sample Data Task - INFO: Script starting!\n",
      "Jupyter Sample Data Task: Script starting!\n",
      "[2024-08-11T20:22:30.276486] Jupyter Sample Data Task - INFO: Using parameters: {'server': '127.0.0.1', 'username': 'user', 'password': 'mysecretword', 'port': '5432', 'database': 'analysis', 'sqlite3file': 'wakanda.sqlite', 'type': 'sqlite3'}\n",
      "Jupyter Sample Data Task: Using parameters: {'server': '127.0.0.1', 'username': 'user', 'password': 'mysecretword', 'port': '5432', 'database': 'analysis', 'sqlite3file': 'wakanda.sqlite', 'type': 'sqlite3'}\n"
     ]
    }
   ],
   "source": [
    "assert_dte_tools_available()\n",
    "sample_task()"
   ]
  },
  {
   "cell_type": "code",
   "execution_count": 16,
   "metadata": {},
   "outputs": [
    {
     "name": "stdout",
     "output_type": "stream",
     "text": [
      "[2024-08-11T20:22:30.486464] Jupyter Sample Data Task - INFO: Progress for No parameters given!: 1/10\n",
      "Jupyter Sample Data Task: Progress for No parameters given!: 1/10\n"
     ]
    }
   ],
   "source": [
    "time.sleep(params[\"sleep_time\"])\n",
    "environment.log_message(f'Progress for {params[\"name\"]}: 1/10')"
   ]
  },
  {
   "cell_type": "code",
   "execution_count": 17,
   "metadata": {},
   "outputs": [
    {
     "name": "stdout",
     "output_type": "stream",
     "text": [
      "[2024-08-11T20:22:30.699433] Jupyter Sample Data Task - INFO: Progress for No parameters given!: 2/10\n",
      "Jupyter Sample Data Task: Progress for No parameters given!: 2/10\n"
     ]
    }
   ],
   "source": [
    "time.sleep(params[\"sleep_time\"])\n",
    "environment.log_message(f'Progress for {params[\"name\"]}: 2/10')"
   ]
  },
  {
   "cell_type": "code",
   "execution_count": 18,
   "metadata": {},
   "outputs": [
    {
     "name": "stdout",
     "output_type": "stream",
     "text": [
      "[2024-08-11T20:22:30.906402] Jupyter Sample Data Task - INFO: Progress for No parameters given!: 3/10\n",
      "Jupyter Sample Data Task: Progress for No parameters given!: 3/10\n"
     ]
    }
   ],
   "source": [
    "time.sleep(params[\"sleep_time\"])\n",
    "environment.log_message(f'Progress for {params[\"name\"]}: 3/10')"
   ]
  },
  {
   "cell_type": "code",
   "execution_count": 19,
   "metadata": {},
   "outputs": [
    {
     "name": "stdout",
     "output_type": "stream",
     "text": [
      "[2024-08-11T20:22:31.118221] Jupyter Sample Data Task - INFO: Progress for No parameters given!: 4/10\n",
      "Jupyter Sample Data Task: Progress for No parameters given!: 4/10\n"
     ]
    }
   ],
   "source": [
    "time.sleep(params[\"sleep_time\"])\n",
    "environment.log_message(f'Progress for {params[\"name\"]}: 4/10')"
   ]
  },
  {
   "cell_type": "code",
   "execution_count": 20,
   "metadata": {},
   "outputs": [
    {
     "name": "stdout",
     "output_type": "stream",
     "text": [
      "[2024-08-11T20:22:31.325739] Jupyter Sample Data Task - INFO: Progress for No parameters given!: 5/10\n",
      "Jupyter Sample Data Task: Progress for No parameters given!: 5/10\n"
     ]
    }
   ],
   "source": [
    "time.sleep(params[\"sleep_time\"])\n",
    "environment.log_message(f'Progress for {params[\"name\"]}: 5/10')"
   ]
  },
  {
   "cell_type": "code",
   "execution_count": 21,
   "metadata": {},
   "outputs": [
    {
     "name": "stdout",
     "output_type": "stream",
     "text": [
      "[2024-08-11T20:22:31.536972] Jupyter Sample Data Task - INFO: Progress for No parameters given!: 6/10\n",
      "Jupyter Sample Data Task: Progress for No parameters given!: 6/10\n"
     ]
    }
   ],
   "source": [
    "time.sleep(params[\"sleep_time\"])\n",
    "environment.log_message(f'Progress for {params[\"name\"]}: 6/10')"
   ]
  },
  {
   "cell_type": "code",
   "execution_count": 22,
   "metadata": {},
   "outputs": [
    {
     "name": "stdout",
     "output_type": "stream",
     "text": [
      "[2024-08-11T20:22:31.748054] Jupyter Sample Data Task - INFO: Progress for No parameters given!: 7/10\n",
      "Jupyter Sample Data Task: Progress for No parameters given!: 7/10\n"
     ]
    }
   ],
   "source": [
    "time.sleep(params[\"sleep_time\"])\n",
    "environment.log_message(f'Progress for {params[\"name\"]}: 7/10')"
   ]
  },
  {
   "cell_type": "code",
   "execution_count": 23,
   "metadata": {},
   "outputs": [
    {
     "name": "stdout",
     "output_type": "stream",
     "text": [
      "[2024-08-11T20:22:31.955240] Jupyter Sample Data Task - INFO: Progress for No parameters given!: 8/10\n",
      "Jupyter Sample Data Task: Progress for No parameters given!: 8/10\n"
     ]
    }
   ],
   "source": [
    "time.sleep(params[\"sleep_time\"])\n",
    "environment.log_message(f'Progress for {params[\"name\"]}: 8/10')"
   ]
  },
  {
   "cell_type": "code",
   "execution_count": 24,
   "metadata": {},
   "outputs": [
    {
     "name": "stdout",
     "output_type": "stream",
     "text": [
      "[2024-08-11T20:22:32.161723] Jupyter Sample Data Task - INFO: Progress for No parameters given!: 9/10\n",
      "Jupyter Sample Data Task: Progress for No parameters given!: 9/10\n"
     ]
    }
   ],
   "source": [
    "time.sleep(params[\"sleep_time\"])\n",
    "environment.log_message(f'Progress for {params[\"name\"]}: 9/10')"
   ]
  },
  {
   "cell_type": "code",
   "execution_count": 25,
   "metadata": {},
   "outputs": [
    {
     "name": "stdout",
     "output_type": "stream",
     "text": [
      "[2024-08-11T20:22:32.368946] Jupyter Sample Data Task - INFO: Progress for No parameters given!: 10/10\n",
      "Jupyter Sample Data Task: Progress for No parameters given!: 10/10\n"
     ]
    }
   ],
   "source": [
    "time.sleep(params[\"sleep_time\"])\n",
    "environment.log_message(f'Progress for {params[\"name\"]}: 10/10')"
   ]
  },
  {
   "cell_type": "code",
   "execution_count": 26,
   "metadata": {},
   "outputs": [
    {
     "name": "stdout",
     "output_type": "stream",
     "text": [
      "[2024-08-11T20:22:32.374980] Jupyter Sample Data Task - INFO: Script completed!\n",
      "Jupyter Sample Data Task: Script completed!\n"
     ]
    }
   ],
   "source": [
    "\n",
    "environment.log_message('Script completed!')"
   ]
  }
 ],
 "metadata": {
  "kernelspec": {
   "display_name": ".venv",
   "language": "python",
   "name": "python3"
  },
  "language_info": {
   "codemirror_mode": {
    "name": "ipython",
    "version": 3
   },
   "file_extension": ".py",
   "mimetype": "text/x-python",
   "name": "python",
   "nbconvert_exporter": "python",
   "pygments_lexer": "ipython3",
   "version": "3.12.3"
  }
 },
 "nbformat": 4,
 "nbformat_minor": 2
}
