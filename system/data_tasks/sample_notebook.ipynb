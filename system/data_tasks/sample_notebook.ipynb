{
 "cells": [
  {
   "cell_type": "code",
   "execution_count": 6,
   "metadata": {},
   "outputs": [],
   "source": [
    "params = {}"
   ]
  },
  {
   "cell_type": "code",
   "execution_count": 7,
   "metadata": {},
   "outputs": [
    {
     "name": "stdout",
     "output_type": "stream",
     "text": [
      "something\n",
      "['/Users/fitti/.pyenv/versions/3.12.3/lib/python312.zip', '/Users/fitti/.pyenv/versions/3.12.3/lib/python3.12', '/Users/fitti/.pyenv/versions/3.12.3/lib/python3.12/lib-dynload', '', '/Users/fitti/Library/Mobile Documents/com~apple~CloudDocs/Development/duft-server/.venv/lib/python3.12/site-packages', '/Users/fitti/Library/Mobile Documents/com~apple~CloudDocs/Development/duft-server/duft']\n"
     ]
    }
   ],
   "source": [
    "import time\n",
    "import json\n",
    "import sys\n",
    "\n",
    "from data_task_helpers import something\n",
    "\n",
    "something()\n",
    "\n",
    "from src.dte.data_task_tools import assert_dte_tools_available, get_resolved_parameters_for_connection, initialise_data_task, log_error, log_message, find_json_arg  # noqa: E402\n",
    "\n"
   ]
  },
  {
   "cell_type": "code",
   "execution_count": 8,
   "metadata": {},
   "outputs": [
    {
     "name": "stdout",
     "output_type": "stream",
     "text": [
      "[2024-06-01T15:54:12.757080] Jupyter Sample Data Task - INFO: Jupyter Sample Data Task initialised running in active mode\n",
      "Unknown Data Task (use set_data_task_name to set the name): Jupyter Sample Data Task initialised running in active mode\n"
     ]
    }
   ],
   "source": [
    "   \n",
    "environment = initialise_data_task(\"Jupyter Sample Data Task\", params=params)\n",
    "params[\"name\"] = params.get(\"name\", \"No parameters given!\")\n",
    "params[\"sleep_time\"] = params.get(\"sleep_time\", 0.2)\n",
    "\n",
    "if not params:\n",
    "    log_error(\"No parameters given!\")\n",
    "    "
   ]
  },
  {
   "cell_type": "code",
   "execution_count": 9,
   "metadata": {},
   "outputs": [],
   "source": [
    "def sample_task():\n",
    "    resolved_parameters = get_resolved_parameters_for_connection(\"ANA\")\n",
    "    log_message('Script starting!')\n",
    "    log_message(\"Using parameters: %s\" % resolved_parameters)\n",
    "    \n",
    "    for i in range(10):\n",
    "        # Simulate a long-running task\n",
    "        time.sleep(params[\"sleep_time\"])\n",
    "        # Send intermediate update to the client\n",
    "        \n",
    "        log_message(f'Progress for %s: {i+1}/10' % params[\"name\"])\n",
    "    log_message('Script completed!')"
   ]
  },
  {
   "cell_type": "code",
   "execution_count": 10,
   "metadata": {},
   "outputs": [
    {
     "name": "stdout",
     "output_type": "stream",
     "text": [
      "DTE Tools available\n",
      "[2024-06-01T15:54:12.794661] Jupyter Sample Data Task - INFO: Script starting!\n",
      "Unknown Data Task (use set_data_task_name to set the name): Script starting!\n",
      "[2024-06-01T15:54:12.796259] Jupyter Sample Data Task - INFO: Using parameters: {'server': '127.0.0.1', 'username': 'user', 'password': 'mysecretword', 'port': '5432', 'database': 'analysis', 'sqlite3file': 'wakanda.sqlite', 'type': 'sqlite3'}\n",
      "Unknown Data Task (use set_data_task_name to set the name): Using parameters: {'server': '127.0.0.1', 'username': 'user', 'password': 'mysecretword', 'port': '5432', 'database': 'analysis', 'sqlite3file': 'wakanda.sqlite', 'type': 'sqlite3'}\n",
      "[2024-06-01T15:54:13.001911] Jupyter Sample Data Task - INFO: Progress for No parameters given!: 1/10\n",
      "Unknown Data Task (use set_data_task_name to set the name): Progress for No parameters given!: 1/10\n",
      "[2024-06-01T15:54:13.204683] Jupyter Sample Data Task - INFO: Progress for No parameters given!: 2/10\n",
      "Unknown Data Task (use set_data_task_name to set the name): Progress for No parameters given!: 2/10\n",
      "[2024-06-01T15:54:13.411868] Jupyter Sample Data Task - INFO: Progress for No parameters given!: 3/10\n",
      "Unknown Data Task (use set_data_task_name to set the name): Progress for No parameters given!: 3/10\n",
      "[2024-06-01T15:54:13.616177] Jupyter Sample Data Task - INFO: Progress for No parameters given!: 4/10\n",
      "Unknown Data Task (use set_data_task_name to set the name): Progress for No parameters given!: 4/10\n",
      "[2024-06-01T15:54:13.821006] Jupyter Sample Data Task - INFO: Progress for No parameters given!: 5/10\n",
      "Unknown Data Task (use set_data_task_name to set the name): Progress for No parameters given!: 5/10\n",
      "[2024-06-01T15:54:14.023132] Jupyter Sample Data Task - INFO: Progress for No parameters given!: 6/10\n",
      "Unknown Data Task (use set_data_task_name to set the name): Progress for No parameters given!: 6/10\n",
      "[2024-06-01T15:54:14.224650] Jupyter Sample Data Task - INFO: Progress for No parameters given!: 7/10\n",
      "Unknown Data Task (use set_data_task_name to set the name): Progress for No parameters given!: 7/10\n",
      "[2024-06-01T15:54:14.434620] Jupyter Sample Data Task - INFO: Progress for No parameters given!: 8/10\n",
      "Unknown Data Task (use set_data_task_name to set the name): Progress for No parameters given!: 8/10\n",
      "[2024-06-01T15:54:14.640212] Jupyter Sample Data Task - INFO: Progress for No parameters given!: 9/10\n",
      "Unknown Data Task (use set_data_task_name to set the name): Progress for No parameters given!: 9/10\n",
      "[2024-06-01T15:54:14.849155] Jupyter Sample Data Task - INFO: Progress for No parameters given!: 10/10\n",
      "Unknown Data Task (use set_data_task_name to set the name): Progress for No parameters given!: 10/10\n",
      "[2024-06-01T15:54:14.853449] Jupyter Sample Data Task - INFO: Script completed!\n",
      "Unknown Data Task (use set_data_task_name to set the name): Script completed!\n"
     ]
    }
   ],
   "source": [
    "assert_dte_tools_available()\n",
    "sample_task()"
   ]
  }
 ],
 "metadata": {
  "kernelspec": {
   "display_name": ".venv",
   "language": "python",
   "name": "python3"
  },
  "language_info": {
   "codemirror_mode": {
    "name": "ipython",
    "version": 3
   },
   "file_extension": ".py",
   "mimetype": "text/x-python",
   "name": "python",
   "nbconvert_exporter": "python",
   "pygments_lexer": "ipython3",
   "version": "3.12.3"
  }
 },
 "nbformat": 4,
 "nbformat_minor": 2
}
