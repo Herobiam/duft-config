{
 "cells": [
  {
   "cell_type": "code",
   "execution_count": 11,
   "metadata": {},
   "outputs": [
    {
     "name": "stdout",
     "output_type": "stream",
     "text": [
      "something\n",
      "['/Users/fitti/.pyenv/versions/3.12.3/lib/python312.zip', '/Users/fitti/.pyenv/versions/3.12.3/lib/python3.12', '/Users/fitti/.pyenv/versions/3.12.3/lib/python3.12/lib-dynload', '', '/Users/fitti/Library/Mobile Documents/com~apple~CloudDocs/Development/duft-server/.venv/lib/python3.12/site-packages', '/Users/fitti/Library/Mobile Documents/com~apple~CloudDocs/Development/duft-server/duft']\n"
     ]
    }
   ],
   "source": [
    "import time\n",
    "import json\n",
    "import sys\n",
    "\n",
    "from data_task_helpers import something\n",
    "\n",
    "something()\n",
    "\n",
    "from src.dte.dte_tools import assert_dte_tools_available, get_resolved_parameters_for_connection, initialise_data_task, log_error, log_message, find_json_arg  # noqa: E402\n",
    "\n"
   ]
  },
  {
   "cell_type": "code",
   "execution_count": 12,
   "metadata": {},
   "outputs": [
    {
     "name": "stdout",
     "output_type": "stream",
     "text": [
      "[2024-06-01T09:41:57.619221] Jupyter Sample Data Task - INFO: Jupyter Sample Data Task initialised running in active mode\n",
      "Jupyter Sample Data Task: Jupyter Sample Data Task initialised running in active mode\n"
     ]
    }
   ],
   "source": [
    "initialise_data_task(\"Jupyter Sample Data Task\")"
   ]
  },
  {
   "cell_type": "code",
   "execution_count": 13,
   "metadata": {},
   "outputs": [
    {
     "name": "stdout",
     "output_type": "stream",
     "text": [
      "[2024-06-01T09:41:57.626126] Sample Data Task - INFO: Sample Data Task initialised running in active mode\n",
      "Sample Data Task: Sample Data Task initialised running in active mode\n",
      "[2024-06-01T09:41:57.627360] Sample Data Task - ERROR: No parameters given!\n",
      "Sample Data Task ERROR: No parameters given!\n"
     ]
    }
   ],
   "source": [
    "params = {}\n",
    "\n",
    "initialise_data_task(\"Sample Data Task\")\n",
    "json_args = find_json_arg(sys.argv)\n",
    "params[\"name\"] = json_args.get(\"name\", \"No parameters given!\")\n",
    "params[\"sleep_time\"] = json_args.get(\"sleep_time\", 0.2)\n",
    "\n",
    "if not json_args:\n",
    "    log_error(\"No parameters given!\")\n",
    "    "
   ]
  },
  {
   "cell_type": "code",
   "execution_count": 14,
   "metadata": {},
   "outputs": [],
   "source": [
    "def sample_task():\n",
    "    resolved_parameters = get_resolved_parameters_for_connection(\"ANA\")\n",
    "    log_message('Script starting!')\n",
    "    log_message(\"Using parameters: %s\" % resolved_parameters)\n",
    "    \n",
    "    for i in range(10):\n",
    "        # Simulate a long-running task\n",
    "        time.sleep(params[\"sleep_time\"])\n",
    "        # Send intermediate update to the client\n",
    "        \n",
    "        log_message(f'Progress for %s: {i+1}/10' % params[\"name\"])\n",
    "    log_message('Script completed!')"
   ]
  },
  {
   "cell_type": "code",
   "execution_count": 15,
   "metadata": {},
   "outputs": [
    {
     "name": "stdout",
     "output_type": "stream",
     "text": [
      "DTE Tools available\n",
      "[2024-06-01T09:41:57.639355] Sample Data Task - INFO: Script starting!\n",
      "Sample Data Task: Script starting!\n",
      "[2024-06-01T09:41:57.640095] Sample Data Task - INFO: Using parameters: {'server': '127.0.0.1', 'username': 'user', 'password': 'mysecretword', 'port': '5432', 'database': 'analysis', 'sqlite3file': 'wakanda.sqlite', 'type': 'sqlite3'}\n",
      "Sample Data Task: Using parameters: {'server': '127.0.0.1', 'username': 'user', 'password': 'mysecretword', 'port': '5432', 'database': 'analysis', 'sqlite3file': 'wakanda.sqlite', 'type': 'sqlite3'}\n",
      "[2024-06-01T09:41:57.845866] Sample Data Task - INFO: Progress for No parameters given!: 1/10\n",
      "Sample Data Task: Progress for No parameters given!: 1/10\n",
      "[2024-06-01T09:41:58.047624] Sample Data Task - INFO: Progress for No parameters given!: 2/10\n",
      "Sample Data Task: Progress for No parameters given!: 2/10\n",
      "[2024-06-01T09:41:58.254797] Sample Data Task - INFO: Progress for No parameters given!: 3/10\n",
      "Sample Data Task: Progress for No parameters given!: 3/10\n",
      "[2024-06-01T09:41:58.460174] Sample Data Task - INFO: Progress for No parameters given!: 4/10\n",
      "Sample Data Task: Progress for No parameters given!: 4/10\n",
      "[2024-06-01T09:41:58.664491] Sample Data Task - INFO: Progress for No parameters given!: 5/10\n",
      "Sample Data Task: Progress for No parameters given!: 5/10\n",
      "[2024-06-01T09:41:58.870068] Sample Data Task - INFO: Progress for No parameters given!: 6/10\n",
      "Sample Data Task: Progress for No parameters given!: 6/10\n",
      "[2024-06-01T09:41:59.076211] Sample Data Task - INFO: Progress for No parameters given!: 7/10\n",
      "Sample Data Task: Progress for No parameters given!: 7/10\n",
      "[2024-06-01T09:41:59.284546] Sample Data Task - INFO: Progress for No parameters given!: 8/10\n",
      "Sample Data Task: Progress for No parameters given!: 8/10\n",
      "[2024-06-01T09:41:59.486775] Sample Data Task - INFO: Progress for No parameters given!: 9/10\n",
      "Sample Data Task: Progress for No parameters given!: 9/10\n",
      "[2024-06-01T09:41:59.690158] Sample Data Task - INFO: Progress for No parameters given!: 10/10\n",
      "Sample Data Task: Progress for No parameters given!: 10/10\n",
      "[2024-06-01T09:41:59.692687] Sample Data Task - INFO: Script completed!\n",
      "Sample Data Task: Script completed!\n"
     ]
    }
   ],
   "source": [
    "assert_dte_tools_available()\n",
    "sample_task()"
   ]
  }
 ],
 "metadata": {
  "kernelspec": {
   "display_name": ".venv",
   "language": "python",
   "name": "python3"
  },
  "language_info": {
   "codemirror_mode": {
    "name": "ipython",
    "version": 3
   },
   "file_extension": ".py",
   "mimetype": "text/x-python",
   "name": "python",
   "nbconvert_exporter": "python",
   "pygments_lexer": "ipython3",
   "version": "3.12.3"
  }
 },
 "nbformat": 4,
 "nbformat_minor": 2
}
